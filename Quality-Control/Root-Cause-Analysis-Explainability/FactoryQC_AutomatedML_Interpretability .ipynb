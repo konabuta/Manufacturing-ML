{
 "cells": [
  {
   "cell_type": "markdown",
   "metadata": {
    "collapsed": true
   },
   "source": [
    "# Azure Machine Learning Interpretability SDK による要因探索"
   ]
  },
  {
   "cell_type": "markdown",
   "metadata": {},
   "source": [
    "品質を予測する機械学習モデルによって製造工程のデータから製造品の品質を予測することが可能になります。それだけでなく、モデルの構造を理解することで、不良に影響を与える説明変数・因子を特定し、不良の原因を見つける手助けができます。本Notebookでは、**Factory.csv** を利用し、製造工程のデータから品質を予測する機械学習を構築し、**Azure Machine Learning Interpretability SDK** の、品質に対する因子の影響度を分析します。"
   ]
  },
  {
   "cell_type": "markdown",
   "metadata": {},
   "source": [
    "## 1. Python SDK のインポート\n",
    "Azure Machine Learning service の Python SDKをインポートします。"
   ]
  },
  {
   "cell_type": "code",
   "execution_count": 1,
   "metadata": {},
   "outputs": [
    {
     "name": "stderr",
     "output_type": "stream",
     "text": [
      "/Users/konabuta/miniconda3/envs/amlservice/lib/python3.6/site-packages/lightgbm/__init__.py:46: UserWarning: Starting from version 2.2.1, the library file in distribution wheels for macOS is built by the Apple Clang (Xcode_9.4.1) compiler.\n",
      "This means that in case of installing LightGBM from PyPI via the ``pip install lightgbm`` command, you don't need to install the gcc compiler anymore.\n",
      "Instead of that, you need to install the OpenMP library, which is required for running LightGBM on the system with the Apple Clang compiler.\n",
      "You can install the OpenMP library by the following command: ``brew install libomp``.\n",
      "  \"You can install the OpenMP library by the following command: ``brew install libomp``.\", UserWarning)\n"
     ]
    }
   ],
   "source": [
    "import azureml.core\n",
    "from azureml.core.experiment import Experiment\n",
    "from azureml.core.workspace import Workspace\n",
    "from azureml.train.automl import AutoMLConfig\n",
    "from azureml.train.automl.run import AutoMLRun\n",
    "import os"
   ]
  },
  {
   "cell_type": "code",
   "execution_count": 2,
   "metadata": {},
   "outputs": [
    {
     "name": "stdout",
     "output_type": "stream",
     "text": [
      "Azure ML SDK Version:  1.0.23\n"
     ]
    }
   ],
   "source": [
    "print(\"Azure ML SDK Version: \", azureml.core.VERSION)"
   ]
  },
  {
   "cell_type": "markdown",
   "metadata": {},
   "source": [
    "### Azure ML workspace との接続\n",
    "Azure Machine Learning service との接続を行います。Azure に対する認証が必要です。"
   ]
  },
  {
   "cell_type": "code",
   "execution_count": 3,
   "metadata": {},
   "outputs": [
    {
     "name": "stderr",
     "output_type": "stream",
     "text": [
      "WARNING - Warning: Falling back to use azure cli login credentials.\n",
      "If you run your code in unattended mode, i.e., where you can't give a user input, then we recommend to use ServicePrincipalAuthentication or MsiAuthentication.\n",
      "Please refer to aka.ms/aml-notebook-auth for different authentication mechanisms in azureml-sdk.\n"
     ]
    },
    {
     "name": "stdout",
     "output_type": "stream",
     "text": [
      "Found the config file in: /Users/konabuta/Project/Manufacturing-ML/.azureml/config.json\n",
      "azureml\teastus\tdllab\teastus\n"
     ]
    }
   ],
   "source": [
    "ws = Workspace.from_config()\n",
    "print(ws.name, ws.location, ws.resource_group, ws.location, sep = '\\t')"
   ]
  },
  {
   "cell_type": "markdown",
   "metadata": {},
   "source": [
    "# 2. 学習データの準備"
   ]
  },
  {
   "cell_type": "code",
   "execution_count": 4,
   "metadata": {},
   "outputs": [],
   "source": [
    "import pandas as pd\n",
    "#os.makedirs(\"./outputs\", exist_ok=True)\n",
    "df = pd.read_csv('./data/Factory.csv')"
   ]
  },
  {
   "cell_type": "code",
   "execution_count": 5,
   "metadata": {},
   "outputs": [
    {
     "data": {
      "text/html": [
       "<div>\n",
       "<style scoped>\n",
       "    .dataframe tbody tr th:only-of-type {\n",
       "        vertical-align: middle;\n",
       "    }\n",
       "\n",
       "    .dataframe tbody tr th {\n",
       "        vertical-align: top;\n",
       "    }\n",
       "\n",
       "    .dataframe thead th {\n",
       "        text-align: right;\n",
       "    }\n",
       "</style>\n",
       "<table border=\"1\" class=\"dataframe\">\n",
       "  <thead>\n",
       "    <tr style=\"text-align: right;\">\n",
       "      <th></th>\n",
       "      <th>ID</th>\n",
       "      <th>Quality</th>\n",
       "      <th>ProcessA-Pressure</th>\n",
       "      <th>ProcessA-Humidity</th>\n",
       "      <th>ProcessA-Vibration</th>\n",
       "      <th>ProcessB-Light</th>\n",
       "      <th>ProcessB-Skill</th>\n",
       "      <th>ProcessB-Temp</th>\n",
       "      <th>ProcessB-Rotation</th>\n",
       "      <th>ProcessC-Density</th>\n",
       "      <th>ProcessC-PH</th>\n",
       "      <th>ProcessC-skewness</th>\n",
       "      <th>ProcessC-Time</th>\n",
       "    </tr>\n",
       "  </thead>\n",
       "  <tbody>\n",
       "    <tr>\n",
       "      <th>4888</th>\n",
       "      <td>4889</td>\n",
       "      <td>0</td>\n",
       "      <td>6.80</td>\n",
       "      <td>0.22</td>\n",
       "      <td>0.36</td>\n",
       "      <td>1.20</td>\n",
       "      <td>0.05</td>\n",
       "      <td>38.00</td>\n",
       "      <td>127.00</td>\n",
       "      <td>0.99</td>\n",
       "      <td>3.04</td>\n",
       "      <td>0.54</td>\n",
       "      <td>9.20</td>\n",
       "    </tr>\n",
       "    <tr>\n",
       "      <th>4889</th>\n",
       "      <td>4890</td>\n",
       "      <td>0</td>\n",
       "      <td>4.90</td>\n",
       "      <td>0.23</td>\n",
       "      <td>0.27</td>\n",
       "      <td>11.75</td>\n",
       "      <td>0.03</td>\n",
       "      <td>34.00</td>\n",
       "      <td>118.00</td>\n",
       "      <td>1.00</td>\n",
       "      <td>3.07</td>\n",
       "      <td>0.50</td>\n",
       "      <td>9.40</td>\n",
       "    </tr>\n",
       "    <tr>\n",
       "      <th>4890</th>\n",
       "      <td>4891</td>\n",
       "      <td>0</td>\n",
       "      <td>6.10</td>\n",
       "      <td>0.34</td>\n",
       "      <td>0.29</td>\n",
       "      <td>2.20</td>\n",
       "      <td>0.04</td>\n",
       "      <td>25.00</td>\n",
       "      <td>100.00</td>\n",
       "      <td>0.99</td>\n",
       "      <td>3.06</td>\n",
       "      <td>0.44</td>\n",
       "      <td>11.80</td>\n",
       "    </tr>\n",
       "    <tr>\n",
       "      <th>4891</th>\n",
       "      <td>4892</td>\n",
       "      <td>0</td>\n",
       "      <td>5.70</td>\n",
       "      <td>0.21</td>\n",
       "      <td>0.32</td>\n",
       "      <td>0.90</td>\n",
       "      <td>0.04</td>\n",
       "      <td>38.00</td>\n",
       "      <td>121.00</td>\n",
       "      <td>0.99</td>\n",
       "      <td>3.24</td>\n",
       "      <td>0.46</td>\n",
       "      <td>10.60</td>\n",
       "    </tr>\n",
       "    <tr>\n",
       "      <th>4892</th>\n",
       "      <td>4893</td>\n",
       "      <td>0</td>\n",
       "      <td>6.50</td>\n",
       "      <td>0.23</td>\n",
       "      <td>0.38</td>\n",
       "      <td>1.30</td>\n",
       "      <td>0.03</td>\n",
       "      <td>29.00</td>\n",
       "      <td>112.00</td>\n",
       "      <td>0.99</td>\n",
       "      <td>3.29</td>\n",
       "      <td>0.54</td>\n",
       "      <td>9.70</td>\n",
       "    </tr>\n",
       "    <tr>\n",
       "      <th>4893</th>\n",
       "      <td>4894</td>\n",
       "      <td>0</td>\n",
       "      <td>6.20</td>\n",
       "      <td>0.21</td>\n",
       "      <td>0.29</td>\n",
       "      <td>1.60</td>\n",
       "      <td>0.04</td>\n",
       "      <td>24.00</td>\n",
       "      <td>92.00</td>\n",
       "      <td>0.99</td>\n",
       "      <td>3.27</td>\n",
       "      <td>0.50</td>\n",
       "      <td>11.20</td>\n",
       "    </tr>\n",
       "    <tr>\n",
       "      <th>4894</th>\n",
       "      <td>4895</td>\n",
       "      <td>0</td>\n",
       "      <td>6.60</td>\n",
       "      <td>0.32</td>\n",
       "      <td>0.36</td>\n",
       "      <td>8.00</td>\n",
       "      <td>0.05</td>\n",
       "      <td>57.00</td>\n",
       "      <td>168.00</td>\n",
       "      <td>0.99</td>\n",
       "      <td>3.15</td>\n",
       "      <td>0.46</td>\n",
       "      <td>9.60</td>\n",
       "    </tr>\n",
       "    <tr>\n",
       "      <th>4895</th>\n",
       "      <td>4896</td>\n",
       "      <td>0</td>\n",
       "      <td>6.50</td>\n",
       "      <td>0.24</td>\n",
       "      <td>0.19</td>\n",
       "      <td>1.20</td>\n",
       "      <td>0.04</td>\n",
       "      <td>30.00</td>\n",
       "      <td>111.00</td>\n",
       "      <td>0.99</td>\n",
       "      <td>2.99</td>\n",
       "      <td>0.46</td>\n",
       "      <td>9.40</td>\n",
       "    </tr>\n",
       "    <tr>\n",
       "      <th>4896</th>\n",
       "      <td>4897</td>\n",
       "      <td>1</td>\n",
       "      <td>5.50</td>\n",
       "      <td>0.29</td>\n",
       "      <td>0.30</td>\n",
       "      <td>1.10</td>\n",
       "      <td>0.02</td>\n",
       "      <td>20.00</td>\n",
       "      <td>110.00</td>\n",
       "      <td>0.99</td>\n",
       "      <td>3.34</td>\n",
       "      <td>0.38</td>\n",
       "      <td>12.80</td>\n",
       "    </tr>\n",
       "    <tr>\n",
       "      <th>4897</th>\n",
       "      <td>4898</td>\n",
       "      <td>0</td>\n",
       "      <td>6.00</td>\n",
       "      <td>0.21</td>\n",
       "      <td>0.38</td>\n",
       "      <td>0.80</td>\n",
       "      <td>0.02</td>\n",
       "      <td>22.00</td>\n",
       "      <td>98.00</td>\n",
       "      <td>0.99</td>\n",
       "      <td>3.26</td>\n",
       "      <td>0.32</td>\n",
       "      <td>11.80</td>\n",
       "    </tr>\n",
       "  </tbody>\n",
       "</table>\n",
       "</div>"
      ],
      "text/plain": [
       "        ID  Quality  ProcessA-Pressure  ProcessA-Humidity  ProcessA-Vibration  \\\n",
       "4888  4889        0               6.80               0.22                0.36   \n",
       "4889  4890        0               4.90               0.23                0.27   \n",
       "4890  4891        0               6.10               0.34                0.29   \n",
       "4891  4892        0               5.70               0.21                0.32   \n",
       "4892  4893        0               6.50               0.23                0.38   \n",
       "4893  4894        0               6.20               0.21                0.29   \n",
       "4894  4895        0               6.60               0.32                0.36   \n",
       "4895  4896        0               6.50               0.24                0.19   \n",
       "4896  4897        1               5.50               0.29                0.30   \n",
       "4897  4898        0               6.00               0.21                0.38   \n",
       "\n",
       "      ProcessB-Light  ProcessB-Skill  ProcessB-Temp  ProcessB-Rotation  \\\n",
       "4888            1.20            0.05          38.00             127.00   \n",
       "4889           11.75            0.03          34.00             118.00   \n",
       "4890            2.20            0.04          25.00             100.00   \n",
       "4891            0.90            0.04          38.00             121.00   \n",
       "4892            1.30            0.03          29.00             112.00   \n",
       "4893            1.60            0.04          24.00              92.00   \n",
       "4894            8.00            0.05          57.00             168.00   \n",
       "4895            1.20            0.04          30.00             111.00   \n",
       "4896            1.10            0.02          20.00             110.00   \n",
       "4897            0.80            0.02          22.00              98.00   \n",
       "\n",
       "      ProcessC-Density  ProcessC-PH  ProcessC-skewness  ProcessC-Time  \n",
       "4888              0.99         3.04               0.54           9.20  \n",
       "4889              1.00         3.07               0.50           9.40  \n",
       "4890              0.99         3.06               0.44          11.80  \n",
       "4891              0.99         3.24               0.46          10.60  \n",
       "4892              0.99         3.29               0.54           9.70  \n",
       "4893              0.99         3.27               0.50          11.20  \n",
       "4894              0.99         3.15               0.46           9.60  \n",
       "4895              0.99         2.99               0.46           9.40  \n",
       "4896              0.99         3.34               0.38          12.80  \n",
       "4897              0.99         3.26               0.32          11.80  "
      ]
     },
     "execution_count": 5,
     "metadata": {},
     "output_type": "execute_result"
    }
   ],
   "source": [
    "df.tail(10)"
   ]
  },
  {
   "cell_type": "code",
   "execution_count": 6,
   "metadata": {},
   "outputs": [],
   "source": [
    "from sklearn.model_selection import train_test_split\n",
    "\n",
    "X = df.drop(columns=[\"Quality\",\"ID\"],axis=1)\n",
    "y = df[\"Quality\"].values\n",
    "\n",
    "X_train, X_test, y_train, y_test = train_test_split(X,y,test_size=0.1,random_state=100,stratify=y)"
   ]
  },
  {
   "cell_type": "markdown",
   "metadata": {},
   "source": [
    "# 3. 事前設定"
   ]
  },
  {
   "cell_type": "code",
   "execution_count": 7,
   "metadata": {},
   "outputs": [],
   "source": [
    "Automl_config = AutoMLConfig(task = 'classification',\n",
    "                             primary_metric = 'AUC_weighted',\n",
    "                             iteration_timeout_minutes = 10,\n",
    "                             iterations = 5,\n",
    "                             experiment_exit_score = 0.999,\n",
    "                             blacklist_models = ['KNN'],\n",
    "                             X = X_train,\n",
    "                             y = y_train,\n",
    "                             n_cross_validations = 3)"
   ]
  },
  {
   "cell_type": "markdown",
   "metadata": {},
   "source": [
    "# 4. 実行と結果確認"
   ]
  },
  {
   "cell_type": "code",
   "execution_count": 8,
   "metadata": {},
   "outputs": [
    {
     "name": "stdout",
     "output_type": "stream",
     "text": [
      "Running on local machine\n",
      "Parent Run ID: AutoML_56074096-3569-4f95-96d2-b21e9eced330\n",
      "****************************************************************************************************\n",
      "ITERATION: The iteration being evaluated.\n",
      "PIPELINE: A summary description of the pipeline being evaluated.\n",
      "DURATION: Time taken for the current iteration.\n",
      "METRIC: The result of computing score on the fitted pipeline.\n",
      "BEST: The best observed score thus far.\n",
      "****************************************************************************************************\n",
      "\n",
      " ITERATION   PIPELINE                                       DURATION      METRIC      BEST\n",
      "         0   StandardScalerWrapper SGD                      0:00:18       0.7813    0.7813\n",
      "         1   StandardScalerWrapper SGD                      0:00:18       0.7866    0.7866\n",
      "         2   MinMaxScaler LightGBM                          0:00:18       0.8421    0.8421\n",
      "         3   StandardScalerWrapper SGD                      0:00:18       0.7835    0.8421\n",
      "         4   Ensemble                                       0:00:33       0.8339    0.8421\n"
     ]
    }
   ],
   "source": [
    "experiment=Experiment(ws, \"automlQC_explain\")\n",
    "local_run = experiment.submit(Automl_config, show_output=True)"
   ]
  },
  {
   "cell_type": "code",
   "execution_count": 9,
   "metadata": {},
   "outputs": [
    {
     "data": {
      "application/vnd.jupyter.widget-view+json": {
       "model_id": "cc5313a47f574eecb86c703c0851c3e9",
       "version_major": 2,
       "version_minor": 0
      },
      "text/plain": [
       "_AutoMLWidget(widget_settings={'childWidgetDisplay': 'popup', 'send_telemetry': False, 'log_level': 'INFO', 's…"
      ]
     },
     "metadata": {},
     "output_type": "display_data"
    }
   ],
   "source": [
    "from azureml.widgets import RunDetails\n",
    "RunDetails(local_run).show()"
   ]
  },
  {
   "cell_type": "code",
   "execution_count": 10,
   "metadata": {},
   "outputs": [
    {
     "data": {
      "text/html": [
       "<table style=\"width:100%\"><tr><th>Experiment</th><th>Id</th><th>Type</th><th>Status</th><th>Details Page</th><th>Docs Page</th></tr><tr><td>automlQC_explain</td><td>AutoML_56074096-3569-4f95-96d2-b21e9eced330_2</td><td></td><td>Completed</td><td><a href=\"https://mlworkspace.azure.ai/portal/subscriptions/9c0f91b8-eb2f-484c-979c-15848c098a6b/resourceGroups/dllab/providers/Microsoft.MachineLearningServices/workspaces/azureml/experiments/automlQC_explain/runs/AutoML_56074096-3569-4f95-96d2-b21e9eced330_2\" target=\"_blank\" rel=\"noopener\">Link to Azure Portal</a></td><td><a href=\"https://docs.microsoft.com/en-us/python/api/azureml-core/azureml.core.run.Run?view=azure-ml-py\" target=\"_blank\" rel=\"noopener\">Link to Documentation</a></td></tr></table>"
      ],
      "text/plain": [
       "Run(Experiment: automlQC_explain,\n",
       "Id: AutoML_56074096-3569-4f95-96d2-b21e9eced330_2,\n",
       "Type: None,\n",
       "Status: Completed)"
      ]
     },
     "execution_count": 10,
     "metadata": {},
     "output_type": "execute_result"
    }
   ],
   "source": [
    "best_run, fitted_model = local_run.get_output()\n",
    "best_run"
   ]
  },
  {
   "cell_type": "code",
   "execution_count": 11,
   "metadata": {},
   "outputs": [
    {
     "data": {
      "text/plain": [
       "Pipeline(memory=None,\n",
       "     steps=[('MinMaxScaler', MinMaxScaler(copy=True, feature_range=(0, 1))), ('LightGBMClassifier', <automl.client.core.common.model_wrappers.LightGBMClassifier object at 0x1189269e8>)])"
      ]
     },
     "execution_count": 11,
     "metadata": {},
     "output_type": "execute_result"
    }
   ],
   "source": [
    "fitted_model"
   ]
  },
  {
   "cell_type": "markdown",
   "metadata": {},
   "source": [
    "  "
   ]
  },
  {
   "cell_type": "markdown",
   "metadata": {},
   "source": [
    "# 5. Azure Machine Learning Interpretability SDK"
   ]
  },
  {
   "cell_type": "markdown",
   "metadata": {},
   "source": [
    "[Azure Machine Learning Interpretability SDK](https://docs.microsoft.com/en-US/azure/machine-learning/service/machine-learning-interpretability-explainability?view=azuremgmtcompute-fluent-1.0.0) は、Microsoftと主要な3rd Partyのライブラリ(LIME,SHAP etc)で構成されたモデル解釈のフレームワークで、統合APIをご提供しています。"
   ]
  },
  {
   "cell_type": "markdown",
   "metadata": {},
   "source": [
    "<img src=\"https://docs.microsoft.com/en-US/azure/machine-learning/service/media/machine-learning-interpretability-explainability/interpretability-architecture.png#lightbox\" width=800 align=left>"
   ]
  },
  {
   "cell_type": "code",
   "execution_count": 12,
   "metadata": {},
   "outputs": [],
   "source": [
    "from azureml.explain.model.tabular_explainer import TabularExplainer\n",
    "classes = [\"false\",\"true\"]\n",
    "tabular_explainer = TabularExplainer(fitted_model, X_train, features=X_train.columns, classes=classes)"
   ]
  },
  {
   "cell_type": "code",
   "execution_count": 13,
   "metadata": {},
   "outputs": [
    {
     "name": "stderr",
     "output_type": "stream",
     "text": [
      "100%|██████████| 100/100 [00:15<00:00,  5.62it/s]\n"
     ]
    }
   ],
   "source": [
    "global_explanation = tabular_explainer.explain_global(X_train[:100])"
   ]
  },
  {
   "cell_type": "code",
   "execution_count": 14,
   "metadata": {},
   "outputs": [
    {
     "name": "stdout",
     "output_type": "stream",
     "text": [
      "ranked global importance values: [0.08100462174990572, 0.049235430651789355, 0.03312915013634618, 0.03274960037911625, 0.02957059064940822, 0.02917127940737956, 0.025856538312190404, 0.015239174419165245, 0.012119398148101097, 0.010296292474114035, 0.00836650050404257]\n",
      "ranked global importance names: ['ProcessC-Time', 'ProcessC-Density', 'ProcessC-PH', 'ProcessB-Skill', 'ProcessB-Light', 'ProcessA-Humidity', 'ProcessB-Temp', 'ProcessA-Vibration', 'ProcessB-Rotation', 'ProcessA-Pressure', 'ProcessC-skewness']\n",
      "global importance rank: [10, 7, 8, 4, 3, 1, 5, 2, 6, 0, 9]\n",
      "ranked per class feature names: [['ProcessC-Time', 'ProcessC-Density', 'ProcessC-PH', 'ProcessB-Skill', 'ProcessB-Light', 'ProcessA-Humidity', 'ProcessB-Temp', 'ProcessA-Vibration', 'ProcessB-Rotation', 'ProcessA-Pressure', 'ProcessC-skewness'], ['ProcessC-Time', 'ProcessC-Density', 'ProcessC-PH', 'ProcessB-Skill', 'ProcessB-Light', 'ProcessA-Humidity', 'ProcessB-Temp', 'ProcessA-Vibration', 'ProcessB-Rotation', 'ProcessA-Pressure', 'ProcessC-skewness']]\n",
      "ranked per class feature values: [[0.08100462174990572, 0.049235430651789355, 0.03312915013634618, 0.03274960037911625, 0.029570590649408226, 0.029171279407379555, 0.0258565383121904, 0.015239174419165247, 0.012119398148101099, 0.010296292474114035, 0.008366500504042574], [0.08100462174990573, 0.049235430651789355, 0.03312915013634618, 0.03274960037911625, 0.029570590649408212, 0.029171279407379562, 0.02585653831219041, 0.015239174419165242, 0.012119398148101096, 0.010296292474114033, 0.008366500504042569]]\n"
     ]
    }
   ],
   "source": [
    "# Sorted SHAP values\n",
    "print('ranked global importance values: {}'.format(global_explanation.get_ranked_global_values()))\n",
    "# Corresponding feature names\n",
    "print('ranked global importance names: {}'.format(global_explanation.get_ranked_global_names()))\n",
    "# feature ranks (based on original order of features)\n",
    "print('global importance rank: {}'.format(global_explanation.global_importance_rank))\n",
    "# per class feature names\n",
    "print('ranked per class feature names: {}'.format(global_explanation.get_ranked_per_class_names()))\n",
    "# per class feature importance values\n",
    "print('ranked per class feature values: {}'.format(global_explanation.get_ranked_per_class_values()))"
   ]
  },
  {
   "cell_type": "code",
   "execution_count": 15,
   "metadata": {},
   "outputs": [
    {
     "data": {
      "text/plain": [
       "{'ProcessC-Time': 0.08100462174990572,\n",
       " 'ProcessC-Density': 0.049235430651789355,\n",
       " 'ProcessC-PH': 0.03312915013634618,\n",
       " 'ProcessB-Skill': 0.03274960037911625,\n",
       " 'ProcessB-Light': 0.02957059064940822,\n",
       " 'ProcessA-Humidity': 0.02917127940737956,\n",
       " 'ProcessB-Temp': 0.025856538312190404,\n",
       " 'ProcessA-Vibration': 0.015239174419165245,\n",
       " 'ProcessB-Rotation': 0.012119398148101097,\n",
       " 'ProcessA-Pressure': 0.010296292474114035,\n",
       " 'ProcessC-skewness': 0.00836650050404257}"
      ]
     },
     "execution_count": 15,
     "metadata": {},
     "output_type": "execute_result"
    }
   ],
   "source": [
    "dict(zip(global_explanation.get_ranked_global_names(), global_explanation.get_ranked_global_values()))"
   ]
  },
  {
   "cell_type": "code",
   "execution_count": 17,
   "metadata": {},
   "outputs": [
    {
     "name": "stderr",
     "output_type": "stream",
     "text": [
      "100%|██████████| 1/1 [00:00<00:00,  6.06it/s]\n"
     ]
    }
   ],
   "source": [
    "local_explanation = tabular_explainer.explain_local(X_test[14:15])"
   ]
  },
  {
   "cell_type": "code",
   "execution_count": 18,
   "metadata": {},
   "outputs": [
    {
     "name": "stdout",
     "output_type": "stream",
     "text": [
      "local importance for first instance: [-0.002806487672019617, 0.006808501815953091, -0.019988360369194935, -0.006448343242444671, 0.10223746338070536, -0.03051536385685906, 0.0006870998848662671, 0.11436859818925099, 0.007061757029632271, 0.0359866866866784, 0.32251324354528]\n"
     ]
    }
   ],
   "source": [
    "# local feature importance information\n",
    "local_importance_values = local_explanation.local_importance_values\n",
    "print('local importance for first instance: {}'.format(local_importance_values[1][0]))"
   ]
  },
  {
   "cell_type": "code",
   "execution_count": 19,
   "metadata": {},
   "outputs": [
    {
     "name": "stdout",
     "output_type": "stream",
     "text": [
      "local importance feature names: ['ProcessA-Pressure', 'ProcessA-Humidity', 'ProcessA-Vibration', 'ProcessB-Light', 'ProcessB-Skill', 'ProcessB-Temp', 'ProcessB-Rotation', 'ProcessC-Density', 'ProcessC-PH', 'ProcessC-skewness', 'ProcessC-Time']\n"
     ]
    }
   ],
   "source": [
    "print('local importance feature names: {}'.format(list(local_explanation.features)))"
   ]
  },
  {
   "cell_type": "code",
   "execution_count": 20,
   "metadata": {
    "scrolled": true
   },
   "outputs": [
    {
     "data": {
      "text/plain": [
       "{'ProcessA-Pressure': -0.002806487672019617,\n",
       " 'ProcessA-Humidity': 0.006808501815953091,\n",
       " 'ProcessA-Vibration': -0.019988360369194935,\n",
       " 'ProcessB-Light': -0.006448343242444671,\n",
       " 'ProcessB-Skill': 0.10223746338070536,\n",
       " 'ProcessB-Temp': -0.03051536385685906,\n",
       " 'ProcessB-Rotation': 0.0006870998848662671,\n",
       " 'ProcessC-Density': 0.11436859818925099,\n",
       " 'ProcessC-PH': 0.007061757029632271,\n",
       " 'ProcessC-skewness': 0.0359866866866784,\n",
       " 'ProcessC-Time': 0.32251324354528}"
      ]
     },
     "execution_count": 20,
     "metadata": {},
     "output_type": "execute_result"
    }
   ],
   "source": [
    "dict(zip(local_explanation.features, local_explanation.local_importance_values[1][0]))"
   ]
  },
  {
   "cell_type": "code",
   "execution_count": null,
   "metadata": {},
   "outputs": [],
   "source": []
  }
 ],
 "metadata": {
  "kernelspec": {
   "display_name": "Python 3",
   "language": "python",
   "name": "python3"
  },
  "language_info": {
   "codemirror_mode": {
    "name": "ipython",
    "version": 3
   },
   "file_extension": ".py",
   "mimetype": "text/x-python",
   "name": "python",
   "nbconvert_exporter": "python",
   "pygments_lexer": "ipython3",
   "version": "3.6.8"
  }
 },
 "nbformat": 4,
 "nbformat_minor": 2
}
